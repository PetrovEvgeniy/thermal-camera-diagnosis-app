{
 "cells": [
  {
   "cell_type": "markdown",
   "metadata": {},
   "source": [
    "# Import necessary libraries"
   ]
  },
  {
   "cell_type": "code",
   "execution_count": 1,
   "metadata": {},
   "outputs": [],
   "source": [
    "import numpy as np\n",
    "import matplotlib.pyplot as plt\n",
    "import glob\n",
    "from sklearn.ensemble import IsolationForest\n",
    "from sklearn.metrics import roc_auc_score, roc_curve\n",
    "from sklearn.preprocessing import StandardScaler\n",
    "from sklearn.decomposition import PCA\n",
    "from PIL import Image"
   ]
  },
  {
   "cell_type": "markdown",
   "metadata": {},
   "source": [
    "# Load images from the train and test directories"
   ]
  },
  {
   "cell_type": "code",
   "execution_count": 47,
   "metadata": {},
   "outputs": [
    {
     "name": "stdout",
     "output_type": "stream",
     "text": [
      "Number of training images: 1010\n",
      "Number of testing images: 230\n"
     ]
    }
   ],
   "source": [
    "train_directory = \"./battery_discharging/normal_masked/*.png\"\n",
    "test_directory = \"./battery_discharging/test/masked/*.png\"\n",
    "\n",
    "train_image_paths = glob.glob(train_directory)\n",
    "test_image_paths = glob.glob(test_directory)\n",
    "\n",
    "print(f\"Number of training images: {len(train_image_paths)}\")\n",
    "print(f\"Number of testing images: {len(test_image_paths)}\")"
   ]
  },
  {
   "cell_type": "markdown",
   "metadata": {},
   "source": [
    "# Function to load and flatten images"
   ]
  },
  {
   "cell_type": "code",
   "execution_count": 48,
   "metadata": {},
   "outputs": [],
   "source": [
    "def load_images(image_paths):\n",
    "    image_data = []\n",
    "    \n",
    "    for path in image_paths:\n",
    "        image = Image.open(path).convert('L')\n",
    "        image = image.resize((80, 60))\n",
    "        image_array = np.array(image).flatten()\n",
    "        image_data.append(image_array)\n",
    "    return np.array(image_data)"
   ]
  },
  {
   "cell_type": "markdown",
   "metadata": {},
   "source": [
    "# Load the images"
   ]
  },
  {
   "cell_type": "code",
   "execution_count": 49,
   "metadata": {},
   "outputs": [
    {
     "name": "stdout",
     "output_type": "stream",
     "text": [
      "Train image data shape: (1010, 4800)\n",
      "Test image data shape: (230, 4800)\n"
     ]
    }
   ],
   "source": [
    "train_image_data = load_images(train_image_paths)\n",
    "test_image_data = load_images(test_image_paths)\n",
    "\n",
    "print(f\"Train image data shape: {train_image_data.shape}\")\n",
    "print(f\"Test image data shape: {test_image_data.shape}\")"
   ]
  },
  {
   "cell_type": "markdown",
   "metadata": {},
   "source": [
    "# Normalize the data"
   ]
  },
  {
   "cell_type": "code",
   "execution_count": 50,
   "metadata": {},
   "outputs": [],
   "source": [
    "scaler = StandardScaler()\n",
    "train_image_data_scaled = scaler.fit_transform(train_image_data)\n",
    "test_image_data_scaled = scaler.transform(test_image_data)"
   ]
  },
  {
   "cell_type": "markdown",
   "metadata": {},
   "source": [
    "# Implement Isolation Forest"
   ]
  },
  {
   "cell_type": "code",
   "execution_count": 60,
   "metadata": {},
   "outputs": [
    {
     "data": {
      "text/plain": [
       "IsolationForest(contamination=0.1)"
      ]
     },
     "execution_count": 60,
     "metadata": {},
     "output_type": "execute_result"
    }
   ],
   "source": [
    "isolation_forest = IsolationForest(contamination=0.10)\n",
    "isolation_forest.fit(train_image_data_scaled)"
   ]
  },
  {
   "cell_type": "markdown",
   "metadata": {},
   "source": [
    "# Predict anomalies in the test set and measure inference times"
   ]
  },
  {
   "cell_type": "code",
   "execution_count": 61,
   "metadata": {},
   "outputs": [
    {
     "name": "stdout",
     "output_type": "stream",
     "text": [
      "Test Image: masked\\a_DS1_20240806_130454_596_CAM2_thermal.png - Prediction: Normal\n",
      "Test Image: masked\\a_DS1_N12_20240715_0010_193221589_DISCHARGED_FAULT_CAM2_thermal.png - Prediction: Anomaly\n",
      "Test Image: masked\\a_DS1_N12_20240715_0018_193406043_INPUT_TEST_OK_CAM2_thermal.png - Prediction: Anomaly\n",
      "Test Image: masked\\a_DS1_N22_20240715_0013_150735323_VARIANCE_NOT_OKAY_CAM1_thermal.png - Prediction: Normal\n",
      "Test Image: masked\\a_DS1_N22_20240715_0015_153529267_VARIANCE_NOT_OKAY_CAM2_thermal.png - Prediction: Anomaly\n",
      "Test Image: masked\\a_DS1_N22_20240715_0015_153529481_VARIANCE_NOT_OKAY_CAM1_thermal.png - Prediction: Anomaly\n",
      "Test Image: masked\\a_DS1_N22_20240715_0016_185509411_INPUT_TEST_OK_CAM2_thermal.png - Prediction: Anomaly\n",
      "Test Image: masked\\a_DS1_N22_20240715_0016_185509621_INPUT_TEST_OK_CAM1_thermal.png - Prediction: Normal\n",
      "Test Image: masked\\a_DS1_N22_20240715_0022_155531119_VARIANCE_NOT_OKAY_CAM2_thermal.png - Prediction: Anomaly\n",
      "Test Image: masked\\a_DS1_N22_20240715_0022_155531308_VARIANCE_NOT_OKAY_CAM1_thermal.png - Prediction: Anomaly\n",
      "Test Image: masked\\a_DS1_N22_20240715_0029_161532591_INPUT_TEST_OK_CAM2_thermal.png - Prediction: Anomaly\n",
      "Test Image: masked\\a_DS1_N22_20240715_0029_161532762_INPUT_TEST_OK_CAM1_thermal.png - Prediction: Anomaly\n",
      "Test Image: masked\\a_DS1_N22_20240715_0032_170543162_INPUT_TEST_OK_CAM1_thermal.png - Prediction: Normal\n",
      "Test Image: masked\\a_DS1_N22_20240715_0032_170543993_INPUT_TEST_OK_CAM2_thermal.png - Prediction: Anomaly\n",
      "Test Image: masked\\a_DS1_N22_20240715_0032_172238207_DISCHARGED_FAULT_CAM2_thermal.png - Prediction: Anomaly\n",
      "Test Image: masked\\a_DS1_N22_20240715_0032_172238376_DISCHARGED_FAULT_CAM1_thermal.png - Prediction: Anomaly\n",
      "Test Image: masked\\a_DS2_N12_20240715_0002_150832102_VARIANCE_NOT_OKAY_CAM1_thermal.png - Prediction: Anomaly\n",
      "Test Image: masked\\a_DS2_N12_20240715_0002_150832225_VARIANCE_NOT_OKAY_CAM2_thermal.png - Prediction: Anomaly\n",
      "Test Image: masked\\a_DS2_N12_20240715_0003_103728884_VARIANCE_NOT_OKAY_CAM2_thermal.png - Prediction: Anomaly\n",
      "Test Image: masked\\a_DS2_N12_20240715_0003_103729979_VARIANCE_NOT_OKAY_CAM1_thermal.png - Prediction: Anomaly\n",
      "Test Image: masked\\a_DS2_N12_20240715_0004_131737100_VARIANCE_NOT_OKAY_CAM1_thermal.png - Prediction: Anomaly\n",
      "Test Image: masked\\a_DS2_N12_20240715_0004_131737993_VARIANCE_NOT_OKAY_CAM2_thermal.png - Prediction: Anomaly\n",
      "Test Image: masked\\a_DS2_N12_20240715_0006_172039571_INPUT_TEST_OK_CAM2_thermal.png - Prediction: Anomaly\n",
      "Test Image: masked\\a_DS2_N12_20240715_0006_172039695_INPUT_TEST_OK_CAM1_thermal.png - Prediction: Anomaly\n",
      "Test Image: masked\\a_DS2_N12_20240715_0006_173327913_INPUT_TEST_OK_CAM1_thermal.png - Prediction: Anomaly\n",
      "Test Image: masked\\a_DS2_N12_20240715_0006_173328822_INPUT_TEST_OK_CAM2_thermal.png - Prediction: Anomaly\n",
      "Test Image: masked\\a_DS2_N12_20240715_0006_180343038_INPUT_TEST_OK_CAM2_thermal.png - Prediction: Anomaly\n",
      "Test Image: masked\\a_DS2_N12_20240715_0006_180343127_INPUT_TEST_OK_CAM1_thermal.png - Prediction: Anomaly\n",
      "Test Image: masked\\a_DS2_N12_20240715_0006_181429255_INPUT_TEST_OK_CAM2_thermal.png - Prediction: Anomaly\n",
      "Test Image: masked\\a_DS2_N12_20240715_0006_181429341_INPUT_TEST_OK_CAM1_thermal.png - Prediction: Anomaly\n",
      "Test Image: masked\\a_DS2_N12_20240715_0006_182316555_INPUT_TEST_OK_CAM1_thermal.png - Prediction: Anomaly\n",
      "Test Image: masked\\a_DS2_N12_20240715_0006_182317474_INPUT_TEST_OK_CAM2_thermal.png - Prediction: Anomaly\n",
      "Test Image: masked\\a_DS2_N12_20240715_0009_152402669_VARIANCE_NOT_OKAY_CAM1_thermal.png - Prediction: Anomaly\n",
      "Test Image: masked\\a_DS2_N12_20240715_0009_152403556_VARIANCE_NOT_OKAY_CAM2_thermal.png - Prediction: Anomaly\n",
      "Test Image: masked\\a_DS2_N12_20240715_0011_134129231_VARIANCE_NOT_OKAY_CAM1_thermal.png - Prediction: Anomaly\n",
      "Test Image: masked\\a_DS2_N12_20240715_0011_134130112_VARIANCE_NOT_OKAY_CAM2_thermal.png - Prediction: Anomaly\n",
      "Test Image: masked\\a_DS2_N12_20240715_0011_185333760_INPUT_TEST_OK_CAM2_thermal.png - Prediction: Anomaly\n",
      "Test Image: masked\\a_DS2_N12_20240715_0011_185333935_INPUT_TEST_OK_CAM1_thermal.png - Prediction: Anomaly\n",
      "Test Image: masked\\a_DS2_N12_20240715_0016_153932193_VARIANCE_NOT_OKAY_CAM2_thermal.png - Prediction: Anomaly\n",
      "Test Image: masked\\a_DS2_N12_20240715_0016_153933405_VARIANCE_NOT_OKAY_CAM1_thermal.png - Prediction: Anomaly\n",
      "Test Image: masked\\a_DS2_N12_20240715_0024_161201043_INPUT_TEST_OK_CAM2_thermal.png - Prediction: Anomaly\n",
      "Test Image: masked\\a_DS2_N12_20240715_0024_161201212_INPUT_TEST_OK_CAM1_thermal.png - Prediction: Anomaly\n",
      "Test Image: masked\\a_DS2_N12_20240715_0033_170519684_INPUT_TEST_OK_CAM2_thermal.png - Prediction: Anomaly\n",
      "Test Image: masked\\a_DS2_N12_20240715_0033_170519909_INPUT_TEST_OK_CAM1_thermal.png - Prediction: Anomaly\n",
      "Test Image: masked\\a_DS2_N12_20240715_0033_172019124_DISCHARGED_FAULT_CAM1_thermal.png - Prediction: Anomaly\n",
      "Test Image: masked\\a_DS2_N12_20240715_0033_172019903_DISCHARGED_FAULT_CAM2_thermal.png - Prediction: Anomaly\n",
      "Test Image: masked\\a_DS2_N22_20240715_0001_150746640_VARIANCE_NOT_OKAY_CAM1_thermal.png - Prediction: Anomaly\n",
      "Test Image: masked\\a_DS2_N22_20240715_0001_150747858_VARIANCE_NOT_OKAY_CAM2_thermal.png - Prediction: Anomaly\n",
      "Test Image: masked\\a_DS2_N22_20240715_0001_170508074_INPUT_TEST_OK_CAM2_thermal.png - Prediction: Anomaly\n",
      "Test Image: masked\\a_DS2_N22_20240715_0001_170508857_INPUT_TEST_OK_CAM1_thermal.png - Prediction: Anomaly\n",
      "Test Image: masked\\a_DS2_N22_20240715_0001_172132074_DISCHARGED_FAULT_CAM1_thermal.png - Prediction: Anomaly\n",
      "Test Image: masked\\a_DS2_N22_20240715_0009_173328988_INPUT_TEST_OK_CAM2_thermal.png - Prediction: Anomaly\n",
      "Test Image: masked\\a_DS2_N22_20240715_0009_180349202_INPUT_TEST_OK_CAM2_thermal.png - Prediction: Anomaly\n",
      "Test Image: masked\\a_DS2_N22_20240715_0009_180349311_INPUT_TEST_OK_CAM1_thermal - Copy.png - Prediction: Anomaly\n",
      "Test Image: masked\\a_DS2_N22_20240715_0009_180349311_INPUT_TEST_OK_CAM1_thermal.png - Prediction: Anomaly\n",
      "Test Image: masked\\a_DS2_N22_20240715_0009_180758416_DISCHARGED_FAULT_CAM2_thermal.png - Prediction: Anomaly\n",
      "Test Image: masked\\a_DS2_N22_20240715_0009_180758526_DISCHARGED_FAULT_CAM1_thermal - Copy.png - Prediction: Anomaly\n",
      "Test Image: masked\\a_DS2_N22_20240715_0009_180758526_DISCHARGED_FAULT_CAM1_thermal.png - Prediction: Anomaly\n",
      "Test Image: masked\\a_DS2_N22_20240715_0010_132643945_VARIANCE_NOT_OKAY_CAM2_thermal.png - Prediction: Anomaly\n",
      "Test Image: masked\\a_DS2_N22_20240715_0010_132644049_VARIANCE_NOT_OKAY_CAM1_thermal.png - Prediction: Anomaly\n",
      "Test Image: masked\\a_DS2_N22_20240715_0013_182545589_INPUT_TEST_OK_CAM2_thermal.png - Prediction: Anomaly\n",
      "Test Image: masked\\a_DS2_N22_20240715_0013_182545757_INPUT_TEST_OK_CAM1_thermal.png - Prediction: Anomaly\n",
      "Test Image: masked\\a_DS2_N22_20240715_0014_153452340_VARIANCE_NOT_OKAY_CAM2_thermal.png - Prediction: Anomaly\n",
      "Test Image: masked\\a_DS2_N22_20240715_0014_153452462_VARIANCE_NOT_OKAY_CAM1_thermal.png - Prediction: Anomaly\n",
      "Test Image: masked\\a_DS2_N22_20240715_0014_185213555_INPUT_TEST_OK_CAM2_thermal.png - Prediction: Anomaly\n",
      "Test Image: masked\\a_DS2_N22_20240715_0014_185214728_INPUT_TEST_OK_CAM1_thermal.png - Prediction: Anomaly\n",
      "Test Image: masked\\a_DS2_N22_20240715_0019_155447517_VARIANCE_NOT_OKAY_CAM2_thermal.png - Prediction: Anomaly\n",
      "Test Image: masked\\a_DS2_N22_20240715_0019_155447719_VARIANCE_NOT_OKAY_CAM1_thermal.png - Prediction: Anomaly\n",
      "Test Image: masked\\a_DS2_N22_20240715_0031_161457500_INPUT_TEST_OK_CAM2_thermal.png - Prediction: Anomaly\n",
      "Test Image: masked\\a_DS2_N22_20240715_0031_161457681_INPUT_TEST_OK_CAM1_thermal.png - Prediction: Anomaly\n",
      "Test Image: masked\\a_DS3_N12_20240715_0002_131637012_VARIANCE_NOT_OKAY_CAM2_thermal.png - Prediction: Anomaly\n",
      "Test Image: masked\\a_DS3_N12_20240715_0002_131638884_VARIANCE_NOT_OKAY_CAM1_thermal.png - Prediction: Normal\n",
      "Test Image: masked\\a_DS3_N12_20240715_0009_132538337_VARIANCE_NOT_OKAY_CAM2_thermal.png - Prediction: Anomaly\n",
      "Test Image: masked\\a_DS3_N12_20240715_0009_132539452_VARIANCE_NOT_OKAY_CAM1_thermal.png - Prediction: Anomaly\n",
      "Test Image: masked\\a_DS3_N12_20240715_0012_153429549_INPUT_TEST_OK_CAM2_thermal.png - Prediction: Anomaly\n",
      "Test Image: masked\\a_DS3_N12_20240715_0012_153429738_INPUT_TEST_OK_CAM1_thermal.png - Prediction: Normal\n",
      "Test Image: masked\\a_DS3_N12_20240715_0012_153842761_DEACTIVATED_CAM2_thermal.png - Prediction: Anomaly\n",
      "Test Image: masked\\a_DS3_N12_20240715_0012_153842954_DEACTIVATED_CAM1_thermal.png - Prediction: Normal\n",
      "Test Image: masked\\a_DS3_N12_20240715_0012_172230180_INPUT_TEST_OK_CAM1_thermal.png - Prediction: Anomaly\n",
      "Test Image: masked\\a_DS3_N12_20240715_0012_172230977_INPUT_TEST_OK_CAM2_thermal.png - Prediction: Anomaly\n",
      "Test Image: masked\\a_DS3_N12_20240715_0012_173327201_INPUT_TEST_OK_CAM2_thermal.png - Prediction: Anomaly\n",
      "Test Image: masked\\a_DS3_N12_20240715_0012_173329398_INPUT_TEST_OK_CAM1_thermal.png - Prediction: Anomaly\n",
      "Test Image: masked\\a_DS3_N12_20240715_0012_180343615_INPUT_TEST_OK_CAM1_thermal.png - Prediction: Anomaly\n",
      "Test Image: masked\\a_DS3_N12_20240715_0012_180344420_INPUT_TEST_OK_CAM2_thermal.png - Prediction: Anomaly\n",
      "Test Image: masked\\a_DS3_N12_20240715_0012_180848832_DISCHARGED_FAULT_CAM1_thermal.png - Prediction: Anomaly\n",
      "Test Image: masked\\a_DS3_N12_20240715_0012_180849639_DISCHARGED_FAULT_CAM2_thermal.png - Prediction: Anomaly\n",
      "Test Image: masked\\a_DS3_N12_20240715_0016_150651188_INPUT_TEST_OK_CAM1_thermal.png - Prediction: Normal\n",
      "Test Image: masked\\a_DS3_N12_20240715_0016_150652979_INPUT_TEST_OK_CAM2_thermal.png - Prediction: Anomaly\n",
      "Test Image: masked\\a_DS3_N12_20240715_0017_182612352_INPUT_TEST_OK_CAM2_thermal.png - Prediction: Anomaly\n",
      "Test Image: masked\\a_DS3_N12_20240715_0017_182612547_INPUT_TEST_OK_CAM1_thermal.png - Prediction: Anomaly\n",
      "Test Image: masked\\a_DS3_N12_20240715_0023_160132577_VARIANCE_NOT_OKAY_CAM2_thermal.png - Prediction: Anomaly\n",
      "Test Image: masked\\a_DS3_N12_20240715_0023_160132759_VARIANCE_NOT_OKAY_CAM1_thermal.png - Prediction: Normal\n",
      "Test Image: masked\\a_DS3_N12_20240715_0034_170359603_INPUT_TEST_OK_CAM1_thermal.png - Prediction: Normal\n",
      "Test Image: masked\\a_DS3_N12_20240715_0034_172149596_DISCHARGED_FAULT_CAM2_thermal.png - Prediction: Anomaly\n",
      "Test Image: masked\\a_DS3_N12_20240715_0034_172149819_DISCHARGED_FAULT_CAM1_thermal.png - Prediction: Anomaly\n",
      "Test Image: masked\\a_DS3_N22_20240715_0004_151100208_VARIANCE_NOT_OKAY_CAM2_thermal.png - Prediction: Anomaly\n",
      "Test Image: masked\\a_DS3_N22_20240715_0004_151100316_VARIANCE_NOT_OKAY_CAM1_thermal.png - Prediction: Normal\n",
      "Test Image: masked\\a_DS3_N22_20240715_0005_170728467_INPUT_TEST_OK_CAM1_thermal.png - Prediction: Anomaly\n",
      "Test Image: masked\\a_DS3_N22_20240715_0005_170729350_INPUT_TEST_OK_CAM2_thermal.png - Prediction: Anomaly\n",
      "Test Image: masked\\a_DS3_N22_20240715_0005_173327568_INPUT_TEST_OK_CAM2_thermal.png - Prediction: Anomaly\n",
      "Test Image: masked\\a_DS3_N22_20240715_0005_173329681_INPUT_TEST_OK_CAM1_thermal.png - Prediction: Anomaly\n",
      "Test Image: masked\\a_DS3_N22_20240715_0008_132300124_VARIANCE_NOT_OKAY_CAM2_thermal.png - Prediction: Anomaly\n",
      "Test Image: masked\\a_DS3_N22_20240715_0008_132300252_VARIANCE_NOT_OKAY_CAM1_thermal.png - Prediction: Anomaly\n",
      "Test Image: masked\\a_DS3_N22_20240715_0011_152802325_INPUT_TEST_OK_CAM2_thermal.png - Prediction: Anomaly\n",
      "Test Image: masked\\a_DS3_N22_20240715_0011_152802499_INPUT_TEST_OK_CAM1_thermal.png - Prediction: Anomaly\n",
      "Test Image: masked\\a_DS3_N22_20240715_0011_153217542_DEACTIVATED_CAM2_thermal.png - Prediction: Anomaly\n",
      "Test Image: masked\\a_DS3_N22_20240715_0011_153217720_DEACTIVATED_CAM1_thermal.png - Prediction: Normal\n",
      "Test Image: masked\\a_DS3_N22_20240715_0015_182351483_INPUT_TEST_OK_CAM2_thermal.png - Prediction: Anomaly\n",
      "Test Image: masked\\a_DS3_N22_20240715_0015_182352696_INPUT_TEST_OK_CAM1_thermal.png - Prediction: Anomaly\n",
      "Test Image: masked\\a_DS3_N22_20240715_0017_150530116_VARIANCE_NOT_OKAY_CAM1_thermal.png - Prediction: Anomaly\n",
      "Test Image: masked\\a_DS4_N12_20240715_0007_182623747_DISCHARGED_FAULT_CAM1_thermal.png - Prediction: Anomaly\n",
      "Test Image: masked\\a_DS4_N22_20240715_0004_173327643_INPUT_TEST_OK_CAM2_thermal.png - Prediction: Anomaly\n",
      "Test Image: masked\\DS1_N12_20240715_0010_153229158_VARIANCE_NOT_OKAY_CAM2_thermal.png - Prediction: Normal\n",
      "Test Image: masked\\DS1_N12_20240716_0009_095737758_INPUT_TEST_OK_CAM1_thermal.png - Prediction: Normal\n",
      "Test Image: masked\\DS1_N12_20240716_0009_100059190_INPUT_TEST_OK_CAM2_thermal.png - Prediction: Normal\n",
      "Test Image: masked\\DS1_N12_20240716_0009_114725407_INPUT_TEST_OK_CAM2_thermal.png - Prediction: Normal\n",
      "Test Image: masked\\DS1_N12_20240716_0011_164314309_INPUT_TEST_OK_CAM2_thermal.png - Prediction: Normal\n",
      "Test Image: masked\\DS1_N12_20240716_0011_165206525_DEACTIVATED_CAM2_thermal.png - Prediction: Normal\n",
      "Test Image: masked\\DS1_N12_20240830_0179_083601009_INPUT_TEST_OK_CAM2_thermal.png - Prediction: Normal\n",
      "Test Image: masked\\DS1_N12_20240830_0184_114510181_INPUT_TEST_OK_CAM1_thermal.png - Prediction: Normal\n",
      "Test Image: masked\\DS1_N12_20240830_0184_114949383_INPUT_TEST_OK_CAM1_thermal.png - Prediction: Normal\n",
      "Test Image: masked\\DS1_N12_20240830_0184_115925585_INPUT_TEST_OK_CAM1_thermal.png - Prediction: Normal\n",
      "Test Image: masked\\DS1_N12_20240902_0219_160130143_INPUT_TEST_OK_CAM1_thermal.png - Prediction: Normal\n",
      "Test Image: masked\\DS1_N22_20240715_0005_132610672_VARIANCE_NOT_OKAY_CAM2_thermal.png - Prediction: Normal\n",
      "Test Image: masked\\DS1_N22_20240715_0013_150735323_VARIANCE_NOT_OKAY_CAM1_thermal.png - Prediction: Normal\n",
      "Test Image: masked\\DS1_N22_20240715_0015_153529481_VARIANCE_NOT_OKAY_CAM1_thermal.png - Prediction: Normal\n",
      "Test Image: masked\\DS1_N22_20240715_0016_185509411_INPUT_TEST_OK_CAM2_thermal.png - Prediction: Normal\n",
      "Test Image: masked\\DS1_N22_20240715_0016_185509621_INPUT_TEST_OK_CAM1_thermal.png - Prediction: Normal\n",
      "Test Image: masked\\DS1_N22_20240715_0022_155531308_VARIANCE_NOT_OKAY_CAM1_thermal.png - Prediction: Normal\n",
      "Test Image: masked\\DS1_N22_20240716_0007_095041264_INPUT_TEST_OK_CAM2_thermal.png - Prediction: Normal\n",
      "Test Image: masked\\DS1_N22_20240716_0007_095348507_DEACTIVATED_CAM2_thermal.png - Prediction: Normal\n",
      "Test Image: masked\\DS1_N22_20240716_0010_100059514_INPUT_TEST_OK_CAM1_thermal.png - Prediction: Normal\n",
      "Test Image: masked\\DS1_N22_20240716_0010_100059593_INPUT_TEST_OK_CAM2_thermal.png - Prediction: Normal\n",
      "Test Image: masked\\DS1_N22_20240716_0010_122640946_INPUT_TEST_OK_CAM1_thermal.png - Prediction: Normal\n",
      "Test Image: masked\\DS1_N22_20240716_0010_124827258_INPUT_TEST_OK_CAM2_thermal.png - Prediction: Normal\n",
      "Test Image: masked\\DS1_N22_20240716_0010_124833166_INPUT_TEST_OK_CAM1_thermal.png - Prediction: Normal\n",
      "Test Image: masked\\DS1_N22_20240716_0010_130250383_INPUT_TEST_OK_CAM1_thermal.png - Prediction: Normal\n",
      "Test Image: masked\\DS1_N22_20240716_0010_130254481_INPUT_TEST_OK_CAM2_thermal.png - Prediction: Normal\n",
      "Test Image: masked\\DS1_N22_20240716_0010_130924694_DEACTIVATED_CAM2_thermal.png - Prediction: Normal\n",
      "Test Image: masked\\DS1_N22_20240830_0180_081149467_INPUT_TEST_OK_CAM1_thermal.png - Prediction: Normal\n",
      "Test Image: masked\\DS1_N22_20240830_0183_083600521_INPUT_TEST_OK_CAM1_thermal.png - Prediction: Normal\n",
      "Test Image: masked\\DS1_N22_20240830_0183_083853722_INPUT_TEST_OK_CAM1_thermal.png - Prediction: Normal\n",
      "Test Image: masked\\DS1_N22_20240902_0213_134429876_DEACTIVATED_CAM2_thermal.png - Prediction: Normal\n",
      "Test Image: masked\\DS2_N12_20240715_0003_103728884_VARIANCE_NOT_OKAY_CAM2_thermal.png - Prediction: Normal\n",
      "Test Image: masked\\DS2_N12_20240715_0003_103729979_VARIANCE_NOT_OKAY_CAM1_thermal.png - Prediction: Normal\n",
      "Test Image: masked\\DS2_N12_20240715_0006_180343038_INPUT_TEST_OK_CAM2_thermal.png - Prediction: Anomaly\n",
      "Test Image: masked\\DS2_N12_20240715_0006_181429341_INPUT_TEST_OK_CAM1_thermal.png - Prediction: Normal\n",
      "Test Image: masked\\DS2_N12_20240715_0016_153932193_VARIANCE_NOT_OKAY_CAM2_thermal.png - Prediction: Normal\n",
      "Test Image: masked\\DS2_N12_20240715_0016_153933405_VARIANCE_NOT_OKAY_CAM1_thermal.png - Prediction: Normal\n",
      "Test Image: masked\\DS2_N12_20240715_0024_161201043_INPUT_TEST_OK_CAM2_thermal.png - Prediction: Normal\n",
      "Test Image: masked\\DS2_N12_20240715_0024_161201212_INPUT_TEST_OK_CAM1_thermal.png - Prediction: Normal\n",
      "Test Image: masked\\DS2_N12_20240716_0006_090825856_INPUT_TEST_OK_CAM1_thermal.png - Prediction: Normal\n",
      "Test Image: masked\\DS2_N12_20240716_0012_122641812_INPUT_TEST_OK_CAM2_thermal.png - Prediction: Normal\n",
      "Test Image: masked\\DS2_N12_20240716_0012_122642732_INPUT_TEST_OK_CAM1_thermal.png - Prediction: Normal\n",
      "Test Image: masked\\DS2_N12_20240716_0012_124826030_INPUT_TEST_OK_CAM2_thermal.png - Prediction: Anomaly\n",
      "Test Image: masked\\DS2_N12_20240830_0190_091951469_INPUT_TEST_OK_CAM2_thermal.png - Prediction: Normal\n",
      "Test Image: masked\\DS2_N22_20240715_0003_131708118_VARIANCE_NOT_OKAY_CAM2_thermal.png - Prediction: Normal\n",
      "Test Image: masked\\DS2_N22_20240715_0008_151316464_VARIANCE_NOT_OKAY_CAM1_thermal.png - Prediction: Normal\n",
      "Test Image: masked\\DS2_N22_20240715_0009_173327095_INPUT_TEST_OK_CAM1_thermal.png - Prediction: Normal\n",
      "Test Image: masked\\DS2_N22_20240716_0005_131314947_DEACTIVATED_CAM2_thermal.png - Prediction: Normal\n",
      "Test Image: masked\\DS2_N22_20240716_0008_131342135_INPUT_TEST_OK_CAM2_thermal.png - Prediction: Normal\n",
      "Test Image: masked\\DS2_N22_20240716_0014_164315527_INPUT_TEST_OK_CAM2_thermal.png - Prediction: Anomaly\n",
      "Test Image: masked\\DS2_N22_20240716_0015_124825937_INPUT_TEST_OK_CAM1_thermal.png - Prediction: Normal\n",
      "Test Image: masked\\DS2_N22_20240716_0015_124826032_INPUT_TEST_OK_CAM2_thermal.png - Prediction: Anomaly\n",
      "Test Image: masked\\DS2_N22_20240716_0015_130255155_INPUT_TEST_OK_CAM1_thermal.png - Prediction: Normal\n",
      "Test Image: masked\\DS2_N22_20240830_0193_101510928_INPUT_TEST_OK_CAM2_thermal.png - Prediction: Normal\n",
      "Test Image: masked\\DS2_N22_20240830_0193_113658241_INPUT_TEST_OK_CAM1_thermal.png - Prediction: Normal\n",
      "Test Image: masked\\DS2_N22_20240830_0193_114509443_INPUT_TEST_OK_CAM1_thermal.png - Prediction: Normal\n",
      "Test Image: masked\\DS2_N22_20240830_0193_114950377_INPUT_TEST_OK_CAM2_thermal.png - Prediction: Normal\n",
      "Test Image: masked\\DS2_N22_20240830_0193_115925579_INPUT_TEST_OK_CAM2_thermal.png - Prediction: Normal\n",
      "Test Image: masked\\DS2_N22_20240902_0226_160131148_INPUT_TEST_OK_CAM1_thermal.png - Prediction: Normal\n",
      "Test Image: masked\\DS2_N22_20240903_0277_102302285_INPUT_TEST_OK_CAM1_thermal.png - Prediction: Normal\n",
      "Test Image: masked\\DS3_N12_20240715_0009_132539452_VARIANCE_NOT_OKAY_CAM1_thermal.png - Prediction: Normal\n",
      "Test Image: masked\\DS3_N12_20240715_0012_153429738_INPUT_TEST_OK_CAM1_thermal.png - Prediction: Normal\n",
      "Test Image: masked\\DS3_N12_20240715_0012_180848832_DISCHARGED_FAULT_CAM1_thermal.png - Prediction: Anomaly\n",
      "Test Image: masked\\DS3_N12_20240716_0006_125142512_DEACTIVATED_CAM1_thermal.png - Prediction: Normal\n",
      "Test Image: masked\\DS3_N12_20240830_0198_101443764_INPUT_TEST_OK_CAM1_thermal.png - Prediction: Normal\n",
      "Test Image: masked\\DS3_N12_20240830_0198_104235172_INPUT_TEST_OK_CAM1_thermal.png - Prediction: Normal\n",
      "Test Image: masked\\DS3_N12_20240902_0220_112046593_INPUT_TEST_OK_CAM1_thermal.png - Prediction: Normal\n",
      "Test Image: masked\\DS3_N12_20240902_0220_112400673_INPUT_TEST_OK_CAM2_thermal.png - Prediction: Normal\n",
      "Test Image: masked\\DS3_N12_20240902_0220_112400797_INPUT_TEST_OK_CAM1_thermal.png - Prediction: Normal\n",
      "Test Image: masked\\DS3_N12_20240902_0235_135356263_INPUT_TEST_OK_CAM1_thermal.png - Prediction: Normal\n",
      "Test Image: masked\\DS3_N12_20240902_0235_155844546_INPUT_TEST_OK_CAM2_thermal.png - Prediction: Normal\n",
      "Test Image: masked\\DS3_N12_20240903_0262_090437119_DEACTIVATED_CAM1_thermal.png - Prediction: Normal\n",
      "Test Image: masked\\DS3_N22_20240715_0004_151100208_VARIANCE_NOT_OKAY_CAM2_thermal.png - Prediction: Normal\n",
      "Test Image: masked\\DS3_N22_20240715_0011_153217542_DEACTIVATED_CAM2_thermal.png - Prediction: Normal\n",
      "Test Image: masked\\DS3_N22_20240715_0020_154237186_VARIANCE_NOT_OKAY_CAM2_thermal.png - Prediction: Normal\n",
      "Test Image: masked\\DS3_N22_20240716_0001_122642969_INPUT_TEST_OK_CAM2_thermal.png - Prediction: Normal\n",
      "Test Image: masked\\DS3_N22_20240716_0016_095135290_INPUT_TEST_OK_CAM2_thermal.png - Prediction: Normal\n",
      "Test Image: masked\\DS3_N22_20240830_0203_105315803_INPUT_TEST_OK_CAM2_thermal.png - Prediction: Normal\n",
      "Test Image: masked\\DS3_N22_20240830_0203_115925275_INPUT_TEST_OK_CAM1_thermal.png - Prediction: Normal\n",
      "Test Image: masked\\DS3_N22_20240830_0203_120610476_INPUT_TEST_OK_CAM1_thermal.png - Prediction: Normal\n",
      "Test Image: masked\\DS3_N22_20240830_0203_120611213_INPUT_TEST_OK_CAM2_thermal.png - Prediction: Normal\n",
      "Test Image: masked\\DS3_N22_20240902_0206_084610243_INPUT_TEST_OK_CAM2_thermal.png - Prediction: Anomaly\n",
      "Test Image: masked\\DS3_N22_20240902_0206_084611420_INPUT_TEST_OK_CAM1_thermal.png - Prediction: Normal\n",
      "Test Image: masked\\DS3_N22_20240902_0218_112046603_INPUT_TEST_OK_CAM2_thermal.png - Prediction: Normal\n",
      "Test Image: masked\\DS3_N22_20240902_0218_112046720_INPUT_TEST_OK_CAM1_thermal.png - Prediction: Normal\n",
      "Test Image: masked\\DS3_N22_20240902_0218_112400804_INPUT_TEST_OK_CAM2_thermal.png - Prediction: Normal\n",
      "Test Image: masked\\DS3_N22_20240902_0229_115905991_INPUT_TEST_OK_CAM1_thermal.png - Prediction: Normal\n",
      "Test Image: masked\\DS3_N22_20240902_0229_155844260_INPUT_TEST_OK_CAM2_thermal.png - Prediction: Normal\n",
      "Test Image: masked\\DS3_N22_20240902_0229_160131461_INPUT_TEST_NOK_CAM2_thermal.png - Prediction: Normal\n",
      "Test Image: masked\\DS4_N12_20240715_0007_173327877_INPUT_TEST_OK_CAM1_thermal.png - Prediction: Normal\n",
      "Test Image: masked\\DS4_N12_20240715_0026_161203964_INPUT_TEST_OK_CAM2_thermal.png - Prediction: Normal\n",
      "Test Image: masked\\DS4_N12_20240716_0017_122642291_INPUT_TEST_OK_CAM2_thermal.png - Prediction: Normal\n",
      "Test Image: masked\\DS4_N12_20240716_0017_124825520_INPUT_TEST_OK_CAM2_thermal.png - Prediction: Normal\n",
      "Test Image: masked\\DS4_N12_20240716_0021_163230368_DEACTIVATED_CAM1_thermal.png - Prediction: Anomaly\n",
      "Test Image: masked\\DS4_N12_20240902_0217_105605886_INPUT_TEST_OK_CAM1_thermal.png - Prediction: Normal\n",
      "Test Image: masked\\DS4_N22_20240715_0002_094619645_VARIANCE_NOT_OKAY_CAM1_thermal.png - Prediction: Normal\n",
      "Test Image: masked\\DS4_N22_20240715_0002_094619799_VARIANCE_NOT_OKAY_CAM2_thermal.png - Prediction: Normal\n",
      "Test Image: masked\\DS4_N22_20240715_0006_150851481_VARIANCE_NOT_OKAY_CAM1_thermal.png - Prediction: Normal\n",
      "Test Image: masked\\DS4_N22_20240715_0007_131800202_VARIANCE_NOT_OKAY_CAM1_thermal.png - Prediction: Normal\n",
      "Test Image: masked\\DS4_N22_20240715_0013_152430372_VARIANCE_NOT_OKAY_CAM2_thermal.png - Prediction: Normal\n",
      "Test Image: masked\\DS4_N22_20240716_0001_075242927_INPUT_TEST_OK_CAM1_thermal.png - Prediction: Normal\n",
      "Test Image: masked\\DS4_N22_20240716_0018_095635323_INPUT_TEST_OK_CAM1_thermal.png - Prediction: Normal\n",
      "Test Image: masked\\DS4_N22_20240716_0018_100059807_INPUT_TEST_OK_CAM2_thermal.png - Prediction: Normal\n",
      "Test Image: masked\\DS4_N22_20240716_0018_122642273_INPUT_TEST_OK_CAM2_thermal.png - Prediction: Normal\n",
      "Test Image: masked\\DS4_N22_20240716_0018_122642975_INPUT_TEST_OK_CAM1_thermal.png - Prediction: Normal\n",
      "Test Image: masked\\DS4_N22_20240716_0018_124825197_INPUT_TEST_OK_CAM1_thermal.png - Prediction: Normal\n",
      "Test Image: masked\\DS4_N22_20240716_0018_124825528_INPUT_TEST_OK_CAM2_thermal.png - Prediction: Normal\n",
      "Test Image: masked\\DS4_N22_20240716_0018_130249420_INPUT_TEST_NOK_CAM1_thermal.png - Prediction: Normal\n",
      "Test Image: masked\\DS4_N22_20240716_0018_130255741_INPUT_TEST_NOK_CAM2_thermal.png - Prediction: Normal\n",
      "Test Image: masked\\DS4_N22_20240716_0020_153158997_INPUT_TEST_OK_CAM1_thermal.png - Prediction: Normal\n",
      "Test Image: masked\\DS4_N22_20240716_0020_162743401_INPUT_TEST_OK_CAM2_thermal.png - Prediction: Anomaly\n",
      "Test Image: masked\\DS4_N22_20240830_0197_104350861_INPUT_TEST_OK_CAM2_thermal.png - Prediction: Normal\n",
      "Test Image: masked\\DS4_N22_20240830_0197_105420328_INPUT_TEST_NOK_CAM1_thermal.png - Prediction: Anomaly\n",
      "Test Image: masked\\DS4_N22_20240902_0214_104425696_INPUT_TEST_OK_CAM2_thermal.png - Prediction: Normal\n",
      "Test Image: masked\\DS4_N22_20240902_0225_112046383_INPUT_TEST_OK_CAM2_thermal.png - Prediction: Normal\n",
      "Test Image: masked\\DS4_N22_20240902_0225_112400584_INPUT_TEST_OK_CAM2_thermal.png - Prediction: Normal\n",
      "Test Image: masked\\DS4_N22_20240903_0287_104207371_INPUT_TEST_OK_CAM1_thermal.png - Prediction: Normal\n",
      "Test Image: masked\\DS4_N22_20240903_0287_104208799_INPUT_TEST_OK_CAM2_thermal.png - Prediction: Normal\n"
     ]
    }
   ],
   "source": [
    "anomaly_scores = isolation_forest.predict(test_image_data_scaled)\n",
    "anomaly_predictions = np.where(anomaly_scores == -1, \"Anomaly\", \"Normal\")\n",
    "\n",
    "for i, path in enumerate(test_image_paths):\n",
    "    print(f\"Test Image: {path.split('/')[-1]} - Prediction: {anomaly_predictions[i]}\")"
   ]
  },
  {
   "cell_type": "markdown",
   "metadata": {},
   "source": [
    "# Count anomalies"
   ]
  },
  {
   "cell_type": "code",
   "execution_count": 62,
   "metadata": {},
   "outputs": [
    {
     "name": "stdout",
     "output_type": "stream",
     "text": [
      "Total anomalies detected in test set: 109\n",
      "Total normal cases detected in test set: 121\n"
     ]
    }
   ],
   "source": [
    "num_anomalies = np.sum(anomaly_predictions == \"Anomaly\")\n",
    "num_normal = np.sum(anomaly_predictions == \"Normal\")\n",
    "\n",
    "print(f\"Total anomalies detected in test set: {num_anomalies}\")\n",
    "print(f\"Total normal cases detected in test set: {num_normal}\")"
   ]
  },
  {
   "cell_type": "markdown",
   "id": "394f61e4",
   "metadata": {},
   "source": [
    "# Calculate Evaluation Metrics"
   ]
  },
  {
   "cell_type": "code",
   "execution_count": 63,
   "id": "4b1d90df",
   "metadata": {},
   "outputs": [
    {
     "name": "stdout",
     "output_type": "stream",
     "text": [
      "AUC-ROC: 0.908\n",
      "Precision: 0.917\n",
      "Recall: 0.893\n"
     ]
    },
    {
     "data": {
      "image/png": "[encoded data removed]",
      "text/plain": [
       "<Figure size 640x480 with 1 Axes>"
      ]
     },
     "metadata": {},
     "output_type": "display_data"
    }
   ],
   "source": [
    "from sklearn.metrics import roc_auc_score, precision_score, recall_score, roc_curve\n",
    "import os\n",
    "import matplotlib.pyplot as plt\n",
    "\n",
    "# Create a new array of 0s and 1s for labels\n",
    "y_test = [1 if os.path.basename(path).startswith(\"a_\") else -1 for path in test_image_paths]\n",
    "\n",
    "# Calculate AUC-ROC (negate scores because lower scores indicate anomalies)\n",
    "auc_roc = roc_auc_score(y_test, -anomaly_scores)  # Use -anomaly_scores to reflect anomaly likelihood\n",
    "print(f\"AUC-ROC: {auc_roc:.3f}\")\n",
    "\n",
    "# Binarize anomaly_scores based on a threshold (assuming 0 as the threshold for binary classification)\n",
    "threshold = 0\n",
    "y_pred = [1 if score < threshold else -1 for score in anomaly_scores]  # Negative scores -> anomalies (label = 1)\n",
    "\n",
    "# Calculate Precision and Recall\n",
    "precision = precision_score(y_test, y_pred)\n",
    "recall = recall_score(y_test, y_pred)\n",
    "\n",
    "print(f\"Precision: {precision:.3f}\")\n",
    "print(f\"Recall: {recall:.3f}\")\n",
    "\n",
    "# Plot ROC Curve\n",
    "fpr, tpr, thresholds = roc_curve(y_test, -anomaly_scores)\n",
    "plt.plot(fpr, tpr, marker='.', color='r')\n",
    "plt.xlabel('False Positive Rate')\n",
    "plt.ylabel('True Positive Rate')\n",
    "plt.title(f'ROC Curve (AUC-ROC: {auc_roc:.2f})')\n",
    "plt.grid(True)\n",
    "plt.show()\n"
   ]
  },
  {
   "cell_type": "markdown",
   "metadata": {},
   "source": [
    "# Visualize one anomaly and one normal image"
   ]
  },
  {
   "cell_type": "code",
   "execution_count": 13,
   "metadata": {},
   "outputs": [
    {
     "data": {
      "image/png": "[encoded data removed]",
      "text/plain": [
       "<Figure size 640x480 with 1 Axes>"
      ]
     },
     "metadata": {},
     "output_type": "display_data"
    },
    {
     "data": {
      "image/png": "[encoded data removed]",
      "text/plain": [
       "<Figure size 640x480 with 1 Axes>"
      ]
     },
     "metadata": {},
     "output_type": "display_data"
    }
   ],
   "source": [
    "anomaly_indices = np.where(anomaly_predictions == \"Anomaly\")[0]\n",
    "normal_indices = np.where(anomaly_predictions == \"Normal\")[0]\n",
    "\n",
    "# Show an example anomaly image\n",
    "if len(anomaly_indices) > 0:\n",
    "    anomaly_image = Image.open(test_image_paths[anomaly_indices[10]])\n",
    "    plt.imshow(anomaly_image, cmap='gray')\n",
    "    plt.title('Example Anomaly Image')\n",
    "    plt.show()\n",
    "\n",
    "# Show an example normal image\n",
    "if len(normal_indices) > 0:\n",
    "    normal_image = Image.open(test_image_paths[normal_indices[1]])\n",
    "    plt.imshow(normal_image, cmap='gray')\n",
    "    plt.title('Example Normal Image')\n",
    "    plt.show()"
   ]
  }
 ],
 "metadata": {
  "kernelspec": {
   "display_name": "ganomaly",
   "language": "python",
   "name": "python3"
  },
  "language_info": {
   "codemirror_mode": {
    "name": "ipython",
    "version": 3
   },
   "file_extension": ".py",
   "mimetype": "text/x-python",
   "name": "python",
   "nbconvert_exporter": "python",
   "pygments_lexer": "ipython3",
   "version": "3.7.12"
  }
 },
 "nbformat": 4,
 "nbformat_minor": 5
}
